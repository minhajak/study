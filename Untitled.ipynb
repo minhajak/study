{
 "cells": [
  {
   "cell_type": "code",
   "execution_count": null,
   "id": "8cce6ea7-efe6-4ea4-8948-868150dd605f",
   "metadata": {},
   "outputs": [],
   "source": []
  }
 ],
 "metadata": {
  "kernelspec": {
   "display_name": "",
   "name": ""
  },
  "language_info": {
   "name": ""
  }
 },
 "nbformat": 4,
 "nbformat_minor": 5
}
